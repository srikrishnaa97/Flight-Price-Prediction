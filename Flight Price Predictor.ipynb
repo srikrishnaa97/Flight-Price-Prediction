{
 "cells": [
  {
   "cell_type": "code",
   "execution_count": 1,
   "id": "a5880d33",
   "metadata": {},
   "outputs": [],
   "source": [
    "import numpy as np\n",
    "import pandas as pd\n",
    "import matplotlib.pyplot as plt\n",
    "import seaborn as sns\n",
    "from datetime import datetime"
   ]
  },
  {
   "cell_type": "code",
   "execution_count": 2,
   "id": "8d0ccdb0",
   "metadata": {},
   "outputs": [
    {
     "data": {
      "text/html": [
       "<div>\n",
       "<style scoped>\n",
       "    .dataframe tbody tr th:only-of-type {\n",
       "        vertical-align: middle;\n",
       "    }\n",
       "\n",
       "    .dataframe tbody tr th {\n",
       "        vertical-align: top;\n",
       "    }\n",
       "\n",
       "    .dataframe thead th {\n",
       "        text-align: right;\n",
       "    }\n",
       "</style>\n",
       "<table border=\"1\" class=\"dataframe\">\n",
       "  <thead>\n",
       "    <tr style=\"text-align: right;\">\n",
       "      <th></th>\n",
       "      <th>Uniq Id</th>\n",
       "      <th>Crawl Timestamp</th>\n",
       "      <th>Source</th>\n",
       "      <th>Layover1</th>\n",
       "      <th>Layover2</th>\n",
       "      <th>Layover3</th>\n",
       "      <th>Destination</th>\n",
       "      <th>Flight Operator</th>\n",
       "      <th>Flight Number</th>\n",
       "      <th>Departure Date</th>\n",
       "      <th>Departure Time</th>\n",
       "      <th>Arrival Date</th>\n",
       "      <th>Arrival Time</th>\n",
       "      <th>Total Time</th>\n",
       "      <th>Number Of Stops</th>\n",
       "      <th>Fare</th>\n",
       "    </tr>\n",
       "  </thead>\n",
       "  <tbody>\n",
       "    <tr>\n",
       "      <th>0</th>\n",
       "      <td>723b6dbcffbdfc2c29321c248cb14a9d</td>\n",
       "      <td>2020-02-01 00:46:15 +0000</td>\n",
       "      <td>Dubai</td>\n",
       "      <td>Muscat</td>\n",
       "      <td>Delhi</td>\n",
       "      <td>NaN</td>\n",
       "      <td>Kolkata</td>\n",
       "      <td>Oman Air|Oman Air|Air India</td>\n",
       "      <td>WY-612|WY-241|AI-764</td>\n",
       "      <td>06Feb2020</td>\n",
       "      <td>22:45</td>\n",
       "      <td>07Feb2020</td>\n",
       "      <td>19:10</td>\n",
       "      <td>18h 55m</td>\n",
       "      <td>2</td>\n",
       "      <td>26224.0</td>\n",
       "    </tr>\n",
       "    <tr>\n",
       "      <th>1</th>\n",
       "      <td>75624e36d7e8ea7e40cc5c33e6c96c01</td>\n",
       "      <td>2020-01-13 13:29:00 +0000</td>\n",
       "      <td>Delhi</td>\n",
       "      <td>NaN</td>\n",
       "      <td>NaN</td>\n",
       "      <td>NaN</td>\n",
       "      <td>Patna</td>\n",
       "      <td>SpiceJet</td>\n",
       "      <td>SG-8480</td>\n",
       "      <td>01Feb2020</td>\n",
       "      <td>15:45</td>\n",
       "      <td>01Feb2020</td>\n",
       "      <td>17:25</td>\n",
       "      <td>01h 40m</td>\n",
       "      <td>0</td>\n",
       "      <td>2889.0</td>\n",
       "    </tr>\n",
       "    <tr>\n",
       "      <th>2</th>\n",
       "      <td>0868155ae620dd8e7cd462e601b5f559</td>\n",
       "      <td>2020-01-01 00:35:50 +0000</td>\n",
       "      <td>Mumbai</td>\n",
       "      <td>Raipur</td>\n",
       "      <td>Kolkata</td>\n",
       "      <td>NaN</td>\n",
       "      <td>Silchar</td>\n",
       "      <td>Air India|Air India|Air India</td>\n",
       "      <td>AI-651|AI-9728|AI-753</td>\n",
       "      <td>23Jan2020</td>\n",
       "      <td>09:40</td>\n",
       "      <td>24Jan2020</td>\n",
       "      <td>07:00</td>\n",
       "      <td>21h 20m</td>\n",
       "      <td>2</td>\n",
       "      <td>13518.0</td>\n",
       "    </tr>\n",
       "    <tr>\n",
       "      <th>3</th>\n",
       "      <td>26135ec458c4204ddf036eae4119dd90</td>\n",
       "      <td>2020-02-01 00:33:23 +0000</td>\n",
       "      <td>Nagpur</td>\n",
       "      <td>Mumbai</td>\n",
       "      <td>Goa</td>\n",
       "      <td>NaN</td>\n",
       "      <td>Pune</td>\n",
       "      <td>Air India|Air India|Air India</td>\n",
       "      <td>AI-630|AI-33|AI-9562</td>\n",
       "      <td>03Feb2020</td>\n",
       "      <td>21:10</td>\n",
       "      <td>04Feb2020</td>\n",
       "      <td>14:45</td>\n",
       "      <td>17h 35m</td>\n",
       "      <td>2</td>\n",
       "      <td>12528.0</td>\n",
       "    </tr>\n",
       "    <tr>\n",
       "      <th>4</th>\n",
       "      <td>c29198e6745d72220af30969f05a7841</td>\n",
       "      <td>2020-01-01 00:18:01 +0000</td>\n",
       "      <td>Mumbai</td>\n",
       "      <td>Hyderabad</td>\n",
       "      <td>NaN</td>\n",
       "      <td>NaN</td>\n",
       "      <td>Varanasi</td>\n",
       "      <td>Indigo|Indigo</td>\n",
       "      <td>6E-5384|6E-915</td>\n",
       "      <td>06Jan2020</td>\n",
       "      <td>00:50</td>\n",
       "      <td>06Jan2020</td>\n",
       "      <td>10:05</td>\n",
       "      <td>09h 15m</td>\n",
       "      <td>1</td>\n",
       "      <td>8240.0</td>\n",
       "    </tr>\n",
       "  </tbody>\n",
       "</table>\n",
       "</div>"
      ],
      "text/plain": [
       "                            Uniq Id            Crawl Timestamp  Source  \\\n",
       "0  723b6dbcffbdfc2c29321c248cb14a9d  2020-02-01 00:46:15 +0000   Dubai   \n",
       "1  75624e36d7e8ea7e40cc5c33e6c96c01  2020-01-13 13:29:00 +0000   Delhi   \n",
       "2  0868155ae620dd8e7cd462e601b5f559  2020-01-01 00:35:50 +0000  Mumbai   \n",
       "3  26135ec458c4204ddf036eae4119dd90  2020-02-01 00:33:23 +0000  Nagpur   \n",
       "4  c29198e6745d72220af30969f05a7841  2020-01-01 00:18:01 +0000  Mumbai   \n",
       "\n",
       "    Layover1 Layover2 Layover3 Destination                Flight Operator  \\\n",
       "0     Muscat    Delhi      NaN     Kolkata    Oman Air|Oman Air|Air India   \n",
       "1        NaN      NaN      NaN       Patna                       SpiceJet   \n",
       "2     Raipur  Kolkata      NaN     Silchar  Air India|Air India|Air India   \n",
       "3     Mumbai      Goa      NaN        Pune  Air India|Air India|Air India   \n",
       "4  Hyderabad      NaN      NaN    Varanasi                  Indigo|Indigo   \n",
       "\n",
       "           Flight Number Departure Date Departure Time Arrival Date  \\\n",
       "0   WY-612|WY-241|AI-764      06Feb2020          22:45    07Feb2020   \n",
       "1                SG-8480      01Feb2020          15:45    01Feb2020   \n",
       "2  AI-651|AI-9728|AI-753      23Jan2020          09:40    24Jan2020   \n",
       "3   AI-630|AI-33|AI-9562      03Feb2020          21:10    04Feb2020   \n",
       "4         6E-5384|6E-915      06Jan2020          00:50    06Jan2020   \n",
       "\n",
       "  Arrival Time Total Time  Number Of Stops     Fare  \n",
       "0        19:10    18h 55m                2  26224.0  \n",
       "1        17:25    01h 40m                0   2889.0  \n",
       "2        07:00    21h 20m                2  13518.0  \n",
       "3        14:45    17h 35m                2  12528.0  \n",
       "4        10:05    09h 15m                1   8240.0  "
      ]
     },
     "execution_count": 2,
     "metadata": {},
     "output_type": "execute_result"
    }
   ],
   "source": [
    "data = pd.read_csv('C:\\\\Users\\\\Srikrishnaa\\\\Documents\\\\Future\\\\career in data science\\\\code dump\\\\python\\\\Flight Price Predictor\\\\EMT_flight_price_data.csv')\n",
    "data.head()"
   ]
  },
  {
   "cell_type": "code",
   "execution_count": 3,
   "id": "69533849",
   "metadata": {},
   "outputs": [
    {
     "data": {
      "text/plain": [
       "30024"
      ]
     },
     "execution_count": 3,
     "metadata": {},
     "output_type": "execute_result"
    }
   ],
   "source": [
    "len(data)"
   ]
  },
  {
   "cell_type": "code",
   "execution_count": 4,
   "id": "0b96bb71",
   "metadata": {},
   "outputs": [
    {
     "name": "stderr",
     "output_type": "stream",
     "text": [
      "C:\\Users\\Srikrishnaa\\anaconda3\\lib\\site-packages\\pandas\\core\\indexing.py:1732: SettingWithCopyWarning: \n",
      "A value is trying to be set on a copy of a slice from a DataFrame\n",
      "\n",
      "See the caveats in the documentation: https://pandas.pydata.org/pandas-docs/stable/user_guide/indexing.html#returning-a-view-versus-a-copy\n",
      "  self._setitem_single_block(indexer, value, name)\n"
     ]
    }
   ],
   "source": [
    "for i in range(len(data)):\n",
    "    if type(data['Layover1'].iloc[i]) is float:\n",
    "        data['Layover1'].iloc[i] = '<None>'\n",
    "    if type(data['Layover2'].iloc[i]) is float:\n",
    "        data['Layover2'].iloc[i] = '<None>'\n",
    "    if type(data['Layover3'].iloc[i]) is float:\n",
    "        data['Layover3'].iloc[i] = '<None>'\n"
   ]
  },
  {
   "cell_type": "code",
   "execution_count": 5,
   "id": "f46df50e",
   "metadata": {},
   "outputs": [
    {
     "data": {
      "text/html": [
       "<div>\n",
       "<style scoped>\n",
       "    .dataframe tbody tr th:only-of-type {\n",
       "        vertical-align: middle;\n",
       "    }\n",
       "\n",
       "    .dataframe tbody tr th {\n",
       "        vertical-align: top;\n",
       "    }\n",
       "\n",
       "    .dataframe thead th {\n",
       "        text-align: right;\n",
       "    }\n",
       "</style>\n",
       "<table border=\"1\" class=\"dataframe\">\n",
       "  <thead>\n",
       "    <tr style=\"text-align: right;\">\n",
       "      <th></th>\n",
       "      <th>Uniq Id</th>\n",
       "      <th>Crawl Timestamp</th>\n",
       "      <th>Source</th>\n",
       "      <th>Layover1</th>\n",
       "      <th>Layover2</th>\n",
       "      <th>Layover3</th>\n",
       "      <th>Destination</th>\n",
       "      <th>Flight Operator</th>\n",
       "      <th>Flight Number</th>\n",
       "      <th>Departure Date</th>\n",
       "      <th>Departure Time</th>\n",
       "      <th>Arrival Date</th>\n",
       "      <th>Arrival Time</th>\n",
       "      <th>Total Time</th>\n",
       "      <th>Number Of Stops</th>\n",
       "      <th>Fare</th>\n",
       "      <th>Departure datetime</th>\n",
       "      <th>Arrival datetime</th>\n",
       "    </tr>\n",
       "  </thead>\n",
       "  <tbody>\n",
       "    <tr>\n",
       "      <th>0</th>\n",
       "      <td>723b6dbcffbdfc2c29321c248cb14a9d</td>\n",
       "      <td>2020-02-01 00:46:15 +0000</td>\n",
       "      <td>Dubai</td>\n",
       "      <td>Muscat</td>\n",
       "      <td>Delhi</td>\n",
       "      <td>&lt;None&gt;</td>\n",
       "      <td>Kolkata</td>\n",
       "      <td>Oman Air|Oman Air|Air India</td>\n",
       "      <td>WY-612|WY-241|AI-764</td>\n",
       "      <td>06Feb2020</td>\n",
       "      <td>22:45</td>\n",
       "      <td>07Feb2020</td>\n",
       "      <td>19:10</td>\n",
       "      <td>18h 55m</td>\n",
       "      <td>2</td>\n",
       "      <td>26224.0</td>\n",
       "      <td>2020-02-06 22:45:00</td>\n",
       "      <td>2020-02-07 19:10:00</td>\n",
       "    </tr>\n",
       "    <tr>\n",
       "      <th>1</th>\n",
       "      <td>75624e36d7e8ea7e40cc5c33e6c96c01</td>\n",
       "      <td>2020-01-13 13:29:00 +0000</td>\n",
       "      <td>Delhi</td>\n",
       "      <td>&lt;None&gt;</td>\n",
       "      <td>&lt;None&gt;</td>\n",
       "      <td>&lt;None&gt;</td>\n",
       "      <td>Patna</td>\n",
       "      <td>SpiceJet</td>\n",
       "      <td>SG-8480</td>\n",
       "      <td>01Feb2020</td>\n",
       "      <td>15:45</td>\n",
       "      <td>01Feb2020</td>\n",
       "      <td>17:25</td>\n",
       "      <td>01h 40m</td>\n",
       "      <td>0</td>\n",
       "      <td>2889.0</td>\n",
       "      <td>2020-02-01 15:45:00</td>\n",
       "      <td>2020-02-01 17:25:00</td>\n",
       "    </tr>\n",
       "    <tr>\n",
       "      <th>2</th>\n",
       "      <td>0868155ae620dd8e7cd462e601b5f559</td>\n",
       "      <td>2020-01-01 00:35:50 +0000</td>\n",
       "      <td>Mumbai</td>\n",
       "      <td>Raipur</td>\n",
       "      <td>Kolkata</td>\n",
       "      <td>&lt;None&gt;</td>\n",
       "      <td>Silchar</td>\n",
       "      <td>Air India|Air India|Air India</td>\n",
       "      <td>AI-651|AI-9728|AI-753</td>\n",
       "      <td>23Jan2020</td>\n",
       "      <td>09:40</td>\n",
       "      <td>24Jan2020</td>\n",
       "      <td>07:00</td>\n",
       "      <td>21h 20m</td>\n",
       "      <td>2</td>\n",
       "      <td>13518.0</td>\n",
       "      <td>2020-01-23 09:40:00</td>\n",
       "      <td>2020-01-24 07:00:00</td>\n",
       "    </tr>\n",
       "    <tr>\n",
       "      <th>3</th>\n",
       "      <td>26135ec458c4204ddf036eae4119dd90</td>\n",
       "      <td>2020-02-01 00:33:23 +0000</td>\n",
       "      <td>Nagpur</td>\n",
       "      <td>Mumbai</td>\n",
       "      <td>Goa</td>\n",
       "      <td>&lt;None&gt;</td>\n",
       "      <td>Pune</td>\n",
       "      <td>Air India|Air India|Air India</td>\n",
       "      <td>AI-630|AI-33|AI-9562</td>\n",
       "      <td>03Feb2020</td>\n",
       "      <td>21:10</td>\n",
       "      <td>04Feb2020</td>\n",
       "      <td>14:45</td>\n",
       "      <td>17h 35m</td>\n",
       "      <td>2</td>\n",
       "      <td>12528.0</td>\n",
       "      <td>2020-02-03 21:10:00</td>\n",
       "      <td>2020-02-04 14:45:00</td>\n",
       "    </tr>\n",
       "    <tr>\n",
       "      <th>4</th>\n",
       "      <td>c29198e6745d72220af30969f05a7841</td>\n",
       "      <td>2020-01-01 00:18:01 +0000</td>\n",
       "      <td>Mumbai</td>\n",
       "      <td>Hyderabad</td>\n",
       "      <td>&lt;None&gt;</td>\n",
       "      <td>&lt;None&gt;</td>\n",
       "      <td>Varanasi</td>\n",
       "      <td>Indigo|Indigo</td>\n",
       "      <td>6E-5384|6E-915</td>\n",
       "      <td>06Jan2020</td>\n",
       "      <td>00:50</td>\n",
       "      <td>06Jan2020</td>\n",
       "      <td>10:05</td>\n",
       "      <td>09h 15m</td>\n",
       "      <td>1</td>\n",
       "      <td>8240.0</td>\n",
       "      <td>2020-01-06 00:50:00</td>\n",
       "      <td>2020-01-06 10:05:00</td>\n",
       "    </tr>\n",
       "  </tbody>\n",
       "</table>\n",
       "</div>"
      ],
      "text/plain": [
       "                            Uniq Id            Crawl Timestamp  Source  \\\n",
       "0  723b6dbcffbdfc2c29321c248cb14a9d  2020-02-01 00:46:15 +0000   Dubai   \n",
       "1  75624e36d7e8ea7e40cc5c33e6c96c01  2020-01-13 13:29:00 +0000   Delhi   \n",
       "2  0868155ae620dd8e7cd462e601b5f559  2020-01-01 00:35:50 +0000  Mumbai   \n",
       "3  26135ec458c4204ddf036eae4119dd90  2020-02-01 00:33:23 +0000  Nagpur   \n",
       "4  c29198e6745d72220af30969f05a7841  2020-01-01 00:18:01 +0000  Mumbai   \n",
       "\n",
       "    Layover1 Layover2 Layover3 Destination                Flight Operator  \\\n",
       "0     Muscat    Delhi   <None>     Kolkata    Oman Air|Oman Air|Air India   \n",
       "1     <None>   <None>   <None>       Patna                       SpiceJet   \n",
       "2     Raipur  Kolkata   <None>     Silchar  Air India|Air India|Air India   \n",
       "3     Mumbai      Goa   <None>        Pune  Air India|Air India|Air India   \n",
       "4  Hyderabad   <None>   <None>    Varanasi                  Indigo|Indigo   \n",
       "\n",
       "           Flight Number Departure Date Departure Time Arrival Date  \\\n",
       "0   WY-612|WY-241|AI-764      06Feb2020          22:45    07Feb2020   \n",
       "1                SG-8480      01Feb2020          15:45    01Feb2020   \n",
       "2  AI-651|AI-9728|AI-753      23Jan2020          09:40    24Jan2020   \n",
       "3   AI-630|AI-33|AI-9562      03Feb2020          21:10    04Feb2020   \n",
       "4         6E-5384|6E-915      06Jan2020          00:50    06Jan2020   \n",
       "\n",
       "  Arrival Time Total Time  Number Of Stops     Fare  Departure datetime  \\\n",
       "0        19:10    18h 55m                2  26224.0 2020-02-06 22:45:00   \n",
       "1        17:25    01h 40m                0   2889.0 2020-02-01 15:45:00   \n",
       "2        07:00    21h 20m                2  13518.0 2020-01-23 09:40:00   \n",
       "3        14:45    17h 35m                2  12528.0 2020-02-03 21:10:00   \n",
       "4        10:05    09h 15m                1   8240.0 2020-01-06 00:50:00   \n",
       "\n",
       "     Arrival datetime  \n",
       "0 2020-02-07 19:10:00  \n",
       "1 2020-02-01 17:25:00  \n",
       "2 2020-01-24 07:00:00  \n",
       "3 2020-02-04 14:45:00  \n",
       "4 2020-01-06 10:05:00  "
      ]
     },
     "execution_count": 5,
     "metadata": {},
     "output_type": "execute_result"
    }
   ],
   "source": [
    "departure_dt = []\n",
    "arrival_dt = []\n",
    "\n",
    "for i in range(len(data)):\n",
    "    dd = data['Departure Date'].iloc[i][:2] + ' ' + data['Departure Date'].iloc[i][2:5] + ' ' + data['Departure Date'].iloc[i][5:] + ' ' + data['Departure Time'].iloc[i]\n",
    "    aa = data['Arrival Date'].iloc[i][:2] + ' ' + data['Arrival Date'].iloc[i][2:5] + ' ' + data['Arrival Date'].iloc[i][5:] + ' ' + data['Arrival Time'].iloc[i]\n",
    "    departure_dt.append(datetime.strptime(dd,\"%d %b %Y %H:%M\"))\n",
    "    arrival_dt.append(datetime.strptime(aa,\"%d %b %Y %H:%M\"))\n",
    "    \n",
    "data['Departure datetime'] = np.array(departure_dt)\n",
    "data['Arrival datetime'] = np.array(arrival_dt)\n",
    "data.head()"
   ]
  },
  {
   "cell_type": "code",
   "execution_count": 6,
   "id": "03b9147e",
   "metadata": {},
   "outputs": [],
   "source": [
    "#Missed space between h and m in Total time column\n",
    "missed_space_inds = []\n",
    "for i in range(len(data)):\n",
    "    k = data['Total Time'].iloc[i].split(' ')\n",
    "    if len(k) != 2:\n",
    "        #print(i,k)\n",
    "        missed_space_inds.append(i)"
   ]
  },
  {
   "cell_type": "code",
   "execution_count": 7,
   "id": "1c7b74c5",
   "metadata": {},
   "outputs": [
    {
     "name": "stderr",
     "output_type": "stream",
     "text": [
      "C:\\Users\\Srikrishnaa\\anaconda3\\lib\\site-packages\\pandas\\core\\indexing.py:1732: SettingWithCopyWarning: \n",
      "A value is trying to be set on a copy of a slice from a DataFrame\n",
      "\n",
      "See the caveats in the documentation: https://pandas.pydata.org/pandas-docs/stable/user_guide/indexing.html#returning-a-view-versus-a-copy\n",
      "  self._setitem_single_block(indexer, value, name)\n"
     ]
    }
   ],
   "source": [
    "#Adding a space between h and m for those data points\n",
    "for i in missed_space_inds:\n",
    "    splits = data['Total Time'].iloc[i].split('h')\n",
    "    data['Total Time'].iloc[i] = splits[0] + 'h' + ' ' + splits[1]"
   ]
  },
  {
   "cell_type": "code",
   "execution_count": 8,
   "id": "0be9a010",
   "metadata": {},
   "outputs": [
    {
     "name": "stdout",
     "output_type": "stream",
     "text": [
      "02h 55m\n",
      "05h 05m\n",
      "05h 05m\n",
      "04h 35m\n",
      "04h 35m\n"
     ]
    }
   ],
   "source": [
    "#Verifying if rectified\n",
    "for i in missed_space_inds[:5]:\n",
    "    print(data['Total Time'].iloc[i])"
   ]
  },
  {
   "cell_type": "code",
   "execution_count": 9,
   "id": "25142b58",
   "metadata": {},
   "outputs": [],
   "source": [
    "#Converting time difference into minutes and integer type\n",
    "del_t = []\n",
    "for i in range(len(data)):\n",
    "    timediff = data['Total Time'].iloc[i].split(' ')\n",
    "    h = int(timediff[0][:-1])\n",
    "    m = int(timediff[1][:-1])\n",
    "    del_t.append(h*60+m)\n",
    "data['Time Taken'] = del_t"
   ]
  },
  {
   "cell_type": "code",
   "execution_count": 10,
   "id": "40d687fd",
   "metadata": {},
   "outputs": [
    {
     "data": {
      "text/plain": [
       "0    2020-02-01 00:46:15\n",
       "1    2020-01-13 13:29:00\n",
       "2    2020-01-01 00:35:50\n",
       "3    2020-02-01 00:33:23\n",
       "4    2020-01-01 00:18:01\n",
       "Name: Crawl Timestamp, dtype: object"
      ]
     },
     "execution_count": 10,
     "metadata": {},
     "output_type": "execute_result"
    }
   ],
   "source": [
    "#Converting crawltime to datetime format \n",
    "\n",
    "data['Crawl Timestamp'] = list(map(lambda x:x[:-6],data['Crawl Timestamp']))\n",
    "data['Crawl Timestamp'].iloc[:5]"
   ]
  },
  {
   "cell_type": "code",
   "execution_count": 11,
   "id": "974d21fb",
   "metadata": {},
   "outputs": [
    {
     "data": {
      "text/plain": [
       "0   2020-02-01 00:46:15\n",
       "1   2020-01-13 13:29:00\n",
       "2   2020-01-01 00:35:50\n",
       "3   2020-02-01 00:33:23\n",
       "4   2020-01-01 00:18:01\n",
       "Name: Crawl Timestamp, dtype: datetime64[ns]"
      ]
     },
     "execution_count": 11,
     "metadata": {},
     "output_type": "execute_result"
    }
   ],
   "source": [
    "#and calculating the difference between crawl time and departure time (in days)\n",
    "crawl_dt = []\n",
    "for i in range(len(data)):\n",
    "    crawl_dt.append(datetime.strptime(data['Crawl Timestamp'].iloc[i],\"%Y-%m-%d %H:%M:%S\"))\n",
    "    \n",
    "data['Crawl Timestamp'] = crawl_dt\n",
    "data['Crawl Timestamp'].iloc[:5]"
   ]
  },
  {
   "cell_type": "code",
   "execution_count": 12,
   "id": "5a8a2583",
   "metadata": {},
   "outputs": [
    {
     "data": {
      "text/plain": [
       "0     5\n",
       "1    19\n",
       "2    22\n",
       "3     2\n",
       "4     5\n",
       "Name: Crawl_Dep_Days, dtype: int64"
      ]
     },
     "execution_count": 12,
     "metadata": {},
     "output_type": "execute_result"
    }
   ],
   "source": [
    "data['Crawl_Dep_Days'] = data['Departure datetime'] - data['Crawl Timestamp']\n",
    "data['Crawl_Dep_Days'] = list(map(lambda x:int(x.days),data['Crawl_Dep_Days']))\n",
    "data['Crawl_Dep_Days'].iloc[:5]"
   ]
  },
  {
   "cell_type": "code",
   "execution_count": 13,
   "id": "94a0e62d",
   "metadata": {},
   "outputs": [],
   "source": [
    "s_d = []\n",
    "s_l1 = []\n",
    "l1_d = []\n",
    "l1_l2 = []\n",
    "l2_d = []\n",
    "l2_l3 = []\n",
    "l3_d = []\n",
    "\n",
    "for i in range(len(data)):\n",
    "    carriers = data['Flight Operator'].iloc[i].split('|')\n",
    "    if len(carriers) == 1:\n",
    "        s_d.append(carriers[0])\n",
    "        s_l1.append('<None>')\n",
    "        l1_d.append('<None>')\n",
    "        l1_l2.append('<None>')\n",
    "        l2_d.append('<None>')\n",
    "        l2_l3.append('<None>')\n",
    "        l3_d.append('<None>')\n",
    "    \n",
    "    elif len(carriers) == 2:\n",
    "        s_d.append('<None>')\n",
    "        s_l1.append(carriers[0])\n",
    "        l1_d.append(carriers[1])\n",
    "        l1_l2.append('<None>')\n",
    "        l2_d.append('<None>')\n",
    "        l2_l3.append('<None>')\n",
    "        l3_d.append('<None>')\n",
    "    \n",
    "    elif len(carriers) == 3:\n",
    "        s_d.append('<None>')\n",
    "        s_l1.append(carriers[0])\n",
    "        l1_d.append('<None>')\n",
    "        l1_l2.append(carriers[1])\n",
    "        l2_d.append(carriers[2])\n",
    "        l2_l3.append('<None>')\n",
    "        l3_d.append('<None>')\n",
    "        \n",
    "    elif len(carriers) == 4:\n",
    "        s_d.append('<None>')\n",
    "        s_l1.append(carriers[0])\n",
    "        l1_d.append('<None>')\n",
    "        l1_l2.append(carriers[1])\n",
    "        l2_d.append('<None>')\n",
    "        l2_l3.append(carriers[2])\n",
    "        l3_d.append(carriers[3])\n",
    "    \n",
    "    else:\n",
    "        pass\n",
    "\n",
    "data['S-D'] = s_d\n",
    "data['S-L1'] = s_l1\n",
    "data['L1-D'] = l1_d\n",
    "data['L1-L2'] = l1_l2\n",
    "data['L2-D'] = l2_d\n",
    "data['L2-L3'] = l2_l3\n",
    "data['L3-D'] = l3_d"
   ]
  },
  {
   "cell_type": "code",
   "execution_count": 14,
   "id": "d9c94db1",
   "metadata": {},
   "outputs": [],
   "source": [
    "flight_carriers = list(set(s_d+s_l1+l1_d+l1_l2+l2_d+l2_l3+l3_d))\n",
    "flight_carriers = [str(i) for i in flight_carriers]\n",
    "flight_carriers.sort()"
   ]
  },
  {
   "cell_type": "code",
   "execution_count": 15,
   "id": "6f12dff9",
   "metadata": {},
   "outputs": [],
   "source": [
    "cities = list(set(list(data['Source'])+list(data['Layover1'])+list(data['Layover2'])+list(data['Layover3'])+list(data['Destination'])))\n",
    "cities = [str(i) for i in cities]\n",
    "cities.sort()"
   ]
  },
  {
   "cell_type": "code",
   "execution_count": 16,
   "id": "59ba5908",
   "metadata": {},
   "outputs": [],
   "source": [
    "#Dropping columns\n",
    "drop_cols = ['Departure Date',\n",
    "             'Departure Time',\n",
    "             'Arrival Date',\n",
    "             'Arrival Time',\n",
    "             'Total Time',\n",
    "             'Uniq Id',\n",
    "             'Crawl Timestamp',\n",
    "             'Flight Number',\n",
    "             'Flight Operator'\n",
    "            ]\n",
    "data.drop(drop_cols,axis=1,inplace=True)"
   ]
  },
  {
   "cell_type": "code",
   "execution_count": 17,
   "id": "b24fa3b9",
   "metadata": {},
   "outputs": [],
   "source": [
    "#Converting departure and arrival datetimes to appropriate feature variables\n",
    "data['Departure datetime'] = pd.to_datetime(data['Departure datetime'])\n",
    "data['Arrival datetime'] = pd.to_datetime(data['Arrival datetime'])"
   ]
  },
  {
   "cell_type": "code",
   "execution_count": 18,
   "id": "2fac4627",
   "metadata": {},
   "outputs": [],
   "source": [
    "data['Departure Month'] = data['Departure datetime'].dt.month\n",
    "data['Departure Week'] = data['Departure datetime'].dt.isocalendar().week\n",
    "data['Departure Hour'] = data['Departure datetime'].dt.hour\n",
    "data['Departure Minute'] = data['Departure datetime'].dt.minute\n",
    "data['Departure Dayofweek'] = data['Departure datetime'].dt.dayofweek\n",
    "\n",
    "data['Arrival Month'] = data['Arrival datetime'].dt.month\n",
    "data['Arrival Week'] = data['Arrival datetime'].dt.isocalendar().week\n",
    "data['Arrival Hour'] = data['Arrival datetime'].dt.hour\n",
    "data['Arrival Minute'] = data['Arrival datetime'].dt.minute\n",
    "data['Arrival Dayofweek'] = data['Arrival datetime'].dt.dayofweek\n",
    "\n",
    "data.drop(['Departure datetime','Arrival datetime'],axis=1,inplace=True)"
   ]
  },
  {
   "cell_type": "code",
   "execution_count": 21,
   "id": "579e60bc",
   "metadata": {
    "scrolled": true
   },
   "outputs": [
    {
     "data": {
      "text/html": [
       "<div>\n",
       "<style scoped>\n",
       "    .dataframe tbody tr th:only-of-type {\n",
       "        vertical-align: middle;\n",
       "    }\n",
       "\n",
       "    .dataframe tbody tr th {\n",
       "        vertical-align: top;\n",
       "    }\n",
       "\n",
       "    .dataframe thead th {\n",
       "        text-align: right;\n",
       "    }\n",
       "</style>\n",
       "<table border=\"1\" class=\"dataframe\">\n",
       "  <thead>\n",
       "    <tr style=\"text-align: right;\">\n",
       "      <th></th>\n",
       "      <th>Source</th>\n",
       "      <th>Layover1</th>\n",
       "      <th>Layover2</th>\n",
       "      <th>Layover3</th>\n",
       "      <th>Destination</th>\n",
       "      <th>S-D</th>\n",
       "      <th>S-L1</th>\n",
       "      <th>L1-D</th>\n",
       "      <th>L1-L2</th>\n",
       "      <th>L2-D</th>\n",
       "      <th>...</th>\n",
       "      <th>Departure Minute</th>\n",
       "      <th>Departure Dayofweek</th>\n",
       "      <th>Arrival Month</th>\n",
       "      <th>Arrival Week</th>\n",
       "      <th>Arrival Hour</th>\n",
       "      <th>Arrival Minute</th>\n",
       "      <th>Arrival Dayofweek</th>\n",
       "      <th>Crawl_Dep_Days</th>\n",
       "      <th>Time Taken</th>\n",
       "      <th>Fare</th>\n",
       "    </tr>\n",
       "  </thead>\n",
       "  <tbody>\n",
       "    <tr>\n",
       "      <th>0</th>\n",
       "      <td>Dubai</td>\n",
       "      <td>Muscat</td>\n",
       "      <td>Delhi</td>\n",
       "      <td>&lt;None&gt;</td>\n",
       "      <td>Kolkata</td>\n",
       "      <td>&lt;None&gt;</td>\n",
       "      <td>Oman Air</td>\n",
       "      <td>&lt;None&gt;</td>\n",
       "      <td>Oman Air</td>\n",
       "      <td>Air India</td>\n",
       "      <td>...</td>\n",
       "      <td>45</td>\n",
       "      <td>3</td>\n",
       "      <td>2</td>\n",
       "      <td>6</td>\n",
       "      <td>19</td>\n",
       "      <td>10</td>\n",
       "      <td>4</td>\n",
       "      <td>5</td>\n",
       "      <td>1135</td>\n",
       "      <td>26224.0</td>\n",
       "    </tr>\n",
       "    <tr>\n",
       "      <th>1</th>\n",
       "      <td>Delhi</td>\n",
       "      <td>&lt;None&gt;</td>\n",
       "      <td>&lt;None&gt;</td>\n",
       "      <td>&lt;None&gt;</td>\n",
       "      <td>Patna</td>\n",
       "      <td>SpiceJet</td>\n",
       "      <td>&lt;None&gt;</td>\n",
       "      <td>&lt;None&gt;</td>\n",
       "      <td>&lt;None&gt;</td>\n",
       "      <td>&lt;None&gt;</td>\n",
       "      <td>...</td>\n",
       "      <td>45</td>\n",
       "      <td>5</td>\n",
       "      <td>2</td>\n",
       "      <td>5</td>\n",
       "      <td>17</td>\n",
       "      <td>25</td>\n",
       "      <td>5</td>\n",
       "      <td>19</td>\n",
       "      <td>100</td>\n",
       "      <td>2889.0</td>\n",
       "    </tr>\n",
       "    <tr>\n",
       "      <th>2</th>\n",
       "      <td>Mumbai</td>\n",
       "      <td>Raipur</td>\n",
       "      <td>Kolkata</td>\n",
       "      <td>&lt;None&gt;</td>\n",
       "      <td>Silchar</td>\n",
       "      <td>&lt;None&gt;</td>\n",
       "      <td>Air India</td>\n",
       "      <td>&lt;None&gt;</td>\n",
       "      <td>Air India</td>\n",
       "      <td>Air India</td>\n",
       "      <td>...</td>\n",
       "      <td>40</td>\n",
       "      <td>3</td>\n",
       "      <td>1</td>\n",
       "      <td>4</td>\n",
       "      <td>7</td>\n",
       "      <td>0</td>\n",
       "      <td>4</td>\n",
       "      <td>22</td>\n",
       "      <td>1280</td>\n",
       "      <td>13518.0</td>\n",
       "    </tr>\n",
       "    <tr>\n",
       "      <th>3</th>\n",
       "      <td>Nagpur</td>\n",
       "      <td>Mumbai</td>\n",
       "      <td>Goa</td>\n",
       "      <td>&lt;None&gt;</td>\n",
       "      <td>Pune</td>\n",
       "      <td>&lt;None&gt;</td>\n",
       "      <td>Air India</td>\n",
       "      <td>&lt;None&gt;</td>\n",
       "      <td>Air India</td>\n",
       "      <td>Air India</td>\n",
       "      <td>...</td>\n",
       "      <td>10</td>\n",
       "      <td>0</td>\n",
       "      <td>2</td>\n",
       "      <td>6</td>\n",
       "      <td>14</td>\n",
       "      <td>45</td>\n",
       "      <td>1</td>\n",
       "      <td>2</td>\n",
       "      <td>1055</td>\n",
       "      <td>12528.0</td>\n",
       "    </tr>\n",
       "    <tr>\n",
       "      <th>4</th>\n",
       "      <td>Mumbai</td>\n",
       "      <td>Hyderabad</td>\n",
       "      <td>&lt;None&gt;</td>\n",
       "      <td>&lt;None&gt;</td>\n",
       "      <td>Varanasi</td>\n",
       "      <td>&lt;None&gt;</td>\n",
       "      <td>Indigo</td>\n",
       "      <td>Indigo</td>\n",
       "      <td>&lt;None&gt;</td>\n",
       "      <td>&lt;None&gt;</td>\n",
       "      <td>...</td>\n",
       "      <td>50</td>\n",
       "      <td>0</td>\n",
       "      <td>1</td>\n",
       "      <td>2</td>\n",
       "      <td>10</td>\n",
       "      <td>5</td>\n",
       "      <td>0</td>\n",
       "      <td>5</td>\n",
       "      <td>555</td>\n",
       "      <td>8240.0</td>\n",
       "    </tr>\n",
       "  </tbody>\n",
       "</table>\n",
       "<p>5 rows × 26 columns</p>\n",
       "</div>"
      ],
      "text/plain": [
       "   Source   Layover1 Layover2 Layover3 Destination       S-D       S-L1  \\\n",
       "0   Dubai     Muscat    Delhi   <None>     Kolkata    <None>   Oman Air   \n",
       "1   Delhi     <None>   <None>   <None>       Patna  SpiceJet     <None>   \n",
       "2  Mumbai     Raipur  Kolkata   <None>     Silchar    <None>  Air India   \n",
       "3  Nagpur     Mumbai      Goa   <None>        Pune    <None>  Air India   \n",
       "4  Mumbai  Hyderabad   <None>   <None>    Varanasi    <None>     Indigo   \n",
       "\n",
       "     L1-D      L1-L2       L2-D  ... Departure Minute Departure Dayofweek  \\\n",
       "0  <None>   Oman Air  Air India  ...               45                   3   \n",
       "1  <None>     <None>     <None>  ...               45                   5   \n",
       "2  <None>  Air India  Air India  ...               40                   3   \n",
       "3  <None>  Air India  Air India  ...               10                   0   \n",
       "4  Indigo     <None>     <None>  ...               50                   0   \n",
       "\n",
       "   Arrival Month  Arrival Week  Arrival Hour  Arrival Minute  \\\n",
       "0              2             6            19              10   \n",
       "1              2             5            17              25   \n",
       "2              1             4             7               0   \n",
       "3              2             6            14              45   \n",
       "4              1             2            10               5   \n",
       "\n",
       "   Arrival Dayofweek  Crawl_Dep_Days  Time Taken     Fare  \n",
       "0                  4               5        1135  26224.0  \n",
       "1                  5              19         100   2889.0  \n",
       "2                  4              22        1280  13518.0  \n",
       "3                  1               2        1055  12528.0  \n",
       "4                  0               5         555   8240.0  \n",
       "\n",
       "[5 rows x 26 columns]"
      ]
     },
     "execution_count": 21,
     "metadata": {},
     "output_type": "execute_result"
    }
   ],
   "source": [
    "cat_vars = [\n",
    "    'Source',\n",
    "    'Layover1',\n",
    "    'Layover2',\n",
    "    'Layover3',\n",
    "    'Destination',\n",
    "    'S-D',\n",
    "    'S-L1',\n",
    "    'L1-D',\n",
    "    'L1-L2',\n",
    "    'L2-D',\n",
    "    'L2-L3',\n",
    "    'L3-D'\n",
    "]\n",
    "ord_vars = [\n",
    "    'Number Of Stops',\n",
    "    'Departure Month',\n",
    "    'Departure Week',\n",
    "    'Departure Hour',\n",
    "    'Departure Minute',\n",
    "    'Departure Dayofweek',\n",
    "    'Arrival Month',\n",
    "    'Arrival Week',\n",
    "    'Arrival Hour',\n",
    "    'Arrival Minute',\n",
    "    'Arrival Dayofweek',\n",
    "    'Crawl_Dep_Days'\n",
    "]\n",
    "num_vars = ['Time Taken']\n",
    "\n",
    "features = cat_vars + ord_vars + num_vars\n",
    "label = ['Fare']\n",
    "data = data[features+label]\n",
    "\n",
    "data.head()"
   ]
  },
  {
   "cell_type": "code",
   "execution_count": 22,
   "id": "faef99c2",
   "metadata": {},
   "outputs": [],
   "source": [
    "from sklearn.model_selection import train_test_split\n",
    "from sklearn.preprocessing import OneHotEncoder"
   ]
  },
  {
   "cell_type": "code",
   "execution_count": 23,
   "id": "28690e66",
   "metadata": {},
   "outputs": [],
   "source": [
    "X_train, X_test, y_train, y_test = train_test_split(data[features],data[label],\n",
    "                                                    test_size=0.3,\n",
    "                                                    shuffle=True,\n",
    "                                                    random_state=4242)"
   ]
  },
  {
   "cell_type": "code",
   "execution_count": 24,
   "id": "d94f7c3c",
   "metadata": {},
   "outputs": [],
   "source": [
    "encoder = OneHotEncoder(sparse=False)\n",
    "encoder.fit(data[cat_vars])\n",
    "\n",
    "X_train_cat_vars = pd.DataFrame(encoder.transform(X_train[cat_vars]))\n",
    "X_test_cat_vars = pd.DataFrame(encoder.transform(X_test[cat_vars]))"
   ]
  },
  {
   "cell_type": "code",
   "execution_count": 25,
   "id": "c39166ca",
   "metadata": {},
   "outputs": [],
   "source": [
    "cat_vars_cols = X_train_cat_vars.columns\n",
    "\n",
    "X_train_cat_vars = np.array(X_train_cat_vars)\n",
    "X_train_ord_num_vars = np.array(X_train[ord_vars+num_vars])\n",
    "\n",
    "X_train = pd.DataFrame(data=np.concatenate((X_train_cat_vars,X_train_ord_num_vars),axis=1),\n",
    "                      columns = list(cat_vars_cols)+ord_vars+num_vars)"
   ]
  },
  {
   "cell_type": "code",
   "execution_count": 26,
   "id": "acdd6084",
   "metadata": {},
   "outputs": [],
   "source": [
    "X_test_cat_vars = np.array(X_test_cat_vars)\n",
    "X_test_ord_num_vars = np.array(X_test[ord_vars+num_vars])\n",
    "\n",
    "X_test = pd.DataFrame(data=np.concatenate((X_test_cat_vars,X_test_ord_num_vars),axis=1),\n",
    "                      columns = list(cat_vars_cols)+ord_vars+num_vars)"
   ]
  },
  {
   "cell_type": "code",
   "execution_count": 27,
   "id": "bfdf3f4b",
   "metadata": {},
   "outputs": [],
   "source": [
    "from sklearn.preprocessing import MinMaxScaler\n",
    "scaler = MinMaxScaler()\n",
    "\n",
    "X_train[ord_vars+num_vars] = scaler.fit_transform(np.array(X_train[ord_vars+num_vars]))\n",
    "#X_train[num_vars] = scaler.fit_transform(np.array(X_train[num_vars]))\n"
   ]
  },
  {
   "cell_type": "code",
   "execution_count": 28,
   "id": "ad729bfe",
   "metadata": {},
   "outputs": [],
   "source": [
    "X_test[ord_vars+num_vars] = scaler.transform(np.array(X_test[ord_vars+num_vars]))\n",
    "#X_test[num_vars] = scaler.transform(np.array(X_test[num_vars]))\n"
   ]
  },
  {
   "cell_type": "code",
   "execution_count": 29,
   "id": "77e53bc8",
   "metadata": {},
   "outputs": [
    {
     "name": "stderr",
     "output_type": "stream",
     "text": [
      "C:\\Users\\Srikrishnaa\\anaconda3\\lib\\site-packages\\sklearn\\utils\\validation.py:1675: FutureWarning: Feature names only support names that are all strings. Got feature names with dtypes: ['int', 'str']. An error will be raised in 1.2.\n",
      "  warnings.warn(\n",
      "C:\\Users\\Srikrishnaa\\AppData\\Local\\Temp/ipykernel_8080/2751168992.py:3: DataConversionWarning: A column-vector y was passed when a 1d array was expected. Please change the shape of y to (n_samples,), for example using ravel().\n",
      "  reg_rf.fit(X_train, y_train)\n"
     ]
    },
    {
     "data": {
      "text/plain": [
       "RandomForestRegressor()"
      ]
     },
     "execution_count": 29,
     "metadata": {},
     "output_type": "execute_result"
    }
   ],
   "source": [
    "from sklearn.ensemble import RandomForestRegressor\n",
    "reg_rf = RandomForestRegressor()\n",
    "reg_rf.fit(X_train, y_train)"
   ]
  },
  {
   "cell_type": "code",
   "execution_count": 30,
   "id": "ac23cb2e",
   "metadata": {},
   "outputs": [],
   "source": [
    "predictions = reg_rf.predict(np.array(X_test))\n",
    "\n",
    "predictions = predictions.reshape(len(predictions))\n",
    "pred_act_dict = {'predicted':predictions, 'actual':np.array(y_test).reshape(len(y_test))}\n",
    "pred_act = pd.DataFrame(pred_act_dict)"
   ]
  },
  {
   "cell_type": "code",
   "execution_count": 31,
   "id": "5739c15f",
   "metadata": {},
   "outputs": [
    {
     "name": "stdout",
     "output_type": "stream",
     "text": [
      "2107.25 1658.0\n"
     ]
    }
   ],
   "source": [
    "print(min(pred_act['predicted']),min(pred_act['actual']))"
   ]
  },
  {
   "cell_type": "code",
   "execution_count": 32,
   "id": "9c366e2a",
   "metadata": {},
   "outputs": [
    {
     "name": "stdout",
     "output_type": "stream",
     "text": [
      "477090.5 733314.0\n"
     ]
    }
   ],
   "source": [
    "print(max(pred_act['predicted']),max(pred_act['actual']))"
   ]
  },
  {
   "cell_type": "code",
   "execution_count": 33,
   "id": "6204a993",
   "metadata": {},
   "outputs": [
    {
     "name": "stdout",
     "output_type": "stream",
     "text": [
      "Percentage of failed predictions: 0.00%\n"
     ]
    }
   ],
   "source": [
    "#Arbitrary constraint: If flight cost < 0 and flight cost > 20lakh the predictor fails \n",
    "failed_cases = pred_act[(pred_act['predicted'] < 0) | (pred_act['predicted'] > 2000000)]\n",
    "perc_failed_cases = len(failed_cases)*100/len(pred_act)\n",
    "print(\"Percentage of failed predictions: {:.2f}%\".format(perc_failed_cases))\n",
    "pred_act_success = pred_act[(pred_act['predicted'] > 0) & (pred_act['predicted'] < 2000000)]"
   ]
  },
  {
   "cell_type": "code",
   "execution_count": 34,
   "id": "edf60265",
   "metadata": {},
   "outputs": [],
   "source": [
    "from sklearn.metrics import mean_squared_error, r2_score, mean_absolute_error"
   ]
  },
  {
   "cell_type": "code",
   "execution_count": 35,
   "id": "3d55b79a",
   "metadata": {},
   "outputs": [
    {
     "name": "stdout",
     "output_type": "stream",
     "text": [
      "Root Mean squared error: 22437.70\n",
      "Mean absolute error: 9235.30\n",
      "R2 score: 0.68\n"
     ]
    }
   ],
   "source": [
    "print(\"Root Mean squared error: {:.2f}\".format(mean_squared_error(pred_act_success['predicted'],pred_act_success['actual'],squared=False)))\n",
    "print(\"Mean absolute error: {:.2f}\".format(mean_absolute_error(pred_act_success['predicted'],pred_act_success['actual'])))\n",
    "print(\"R2 score: {:.2f}\".format(r2_score(pred_act_success['predicted'],pred_act_success['actual'])))"
   ]
  },
  {
   "cell_type": "code",
   "execution_count": 36,
   "id": "1a13757f",
   "metadata": {},
   "outputs": [
    {
     "data": {
      "image/png": "[encoded data removed]",
      "text/plain": [
       "<Figure size 432x288 with 1 Axes>"
      ]
     },
     "metadata": {
      "needs_background": "light"
     },
     "output_type": "display_data"
    }
   ],
   "source": [
    "fig,ax = plt.subplots()\n",
    "sns.scatterplot(data=pred_act_success,x='predicted',y='actual',ax=ax)\n",
    "ax.plot(pred_act_success['predicted'],pred_act_success['predicted'],'k--')\n",
    "ax.set_xscale('log')\n",
    "ax.set_yscale('log')"
   ]
  },
  {
   "cell_type": "code",
   "execution_count": 37,
   "id": "e9b39a2e",
   "metadata": {},
   "outputs": [],
   "source": [
    "import pickle\n",
    "model_filename = 'flight_price_regression'\n",
    "scaler_filename = 'feature_scaler'\n",
    "encoder_filename = 'one_hot_encoder'\n",
    "\n",
    "with open(model_filename,'wb') as f:\n",
    "    pickle.dump(reg_rf,f)\n",
    "\n",
    "with open(scaler_filename,'wb') as f:\n",
    "    pickle.dump(scaler,f)\n",
    "\n",
    "with open(encoder_filename,'wb') as f:\n",
    "    pickle.dump(encoder,f)"
   ]
  },
  {
   "cell_type": "code",
   "execution_count": 38,
   "id": "2899d231",
   "metadata": {},
   "outputs": [],
   "source": [
    "cities_filename = 'cities.txt'\n",
    "carriers_filename = 'flight_carriers.txt'\n",
    "input_feat_filename = 'features.txt'\n",
    "cat_filename = 'categorical.txt'\n",
    "ord_filename = 'ordinal.txt'\n",
    "num_filename = 'numerical.txt'\n",
    "\n",
    "with open(cities_filename,'w') as f:\n",
    "    for item in cities:\n",
    "        f.write(\"{}\\n\".format(item))\n",
    "\n",
    "with open(carriers_filename,'w') as f:\n",
    "    for item in flight_carriers:\n",
    "        f.write(\"{}\\n\".format(item))\n",
    "\n",
    "with open(input_feat_filename,'w') as f:\n",
    "    for item in features:\n",
    "        f.write(\"{}\\n\".format(item))\n",
    "\n",
    "with open(cat_filename,'w') as f:\n",
    "    for item in cat_vars:\n",
    "        f.write(\"{}\\n\".format(item))\n",
    "\n",
    "with open(ord_filename,'w') as f:\n",
    "    for item in ord_vars:\n",
    "        f.write(\"{}\\n\".format(item))\n",
    "\n",
    "with open(num_filename,'w') as f:\n",
    "    for item in num_vars:\n",
    "        f.write(\"{}\\n\".format(item))"
   ]
  }
 ],
 "metadata": {
  "kernelspec": {
   "display_name": "Python 3 (ipykernel)",
   "language": "python",
   "name": "python3"
  },
  "language_info": {
   "codemirror_mode": {
    "name": "ipython",
    "version": 3
   },
   "file_extension": ".py",
   "mimetype": "text/x-python",
   "name": "python",
   "nbconvert_exporter": "python",
   "pygments_lexer": "ipython3",
   "version": "3.8.8"
  }
 },
 "nbformat": 4,
 "nbformat_minor": 5
}
